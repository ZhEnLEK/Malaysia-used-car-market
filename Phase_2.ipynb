{
 "cells": [
  {
   "cell_type": "code",
   "execution_count": 1,
   "metadata": {},
   "outputs": [],
   "source": [
    "import os\n",
    "import pandas as pd\n",
    "import matplotlib.pyplot as plt\n",
    "import seaborn as sns"
   ]
  },
  {
   "cell_type": "code",
   "execution_count": 2,
   "metadata": {},
   "outputs": [],
   "source": [
    "df = pd.read_csv('motortraders.csv', index_col=0)"
   ]
  },
  {
   "cell_type": "code",
   "execution_count": 3,
   "metadata": {},
   "outputs": [
    {
     "data": {
      "text/html": [
       "<div>\n",
       "<style scoped>\n",
       "    .dataframe tbody tr th:only-of-type {\n",
       "        vertical-align: middle;\n",
       "    }\n",
       "\n",
       "    .dataframe tbody tr th {\n",
       "        vertical-align: top;\n",
       "    }\n",
       "\n",
       "    .dataframe thead th {\n",
       "        text-align: right;\n",
       "    }\n",
       "</style>\n",
       "<table border=\"1\" class=\"dataframe\">\n",
       "  <thead>\n",
       "    <tr style=\"text-align: right;\">\n",
       "      <th></th>\n",
       "      <th>web-scraper-order</th>\n",
       "      <th>web-scraper-start-url</th>\n",
       "      <th>usedcar</th>\n",
       "      <th>usedcar-href</th>\n",
       "      <th>items</th>\n",
       "      <th>price</th>\n",
       "      <th>year</th>\n",
       "      <th>location</th>\n",
       "      <th>make</th>\n",
       "      <th>model</th>\n",
       "      <th>variant</th>\n",
       "      <th>mileage</th>\n",
       "      <th>color</th>\n",
       "      <th>transmission</th>\n",
       "      <th>engine displacement</th>\n",
       "      <th>body type</th>\n",
       "      <th>dealer</th>\n",
       "      <th>seller</th>\n",
       "      <th>pages</th>\n",
       "      <th>pages-href</th>\n",
       "    </tr>\n",
       "  </thead>\n",
       "  <tbody>\n",
       "    <tr>\n",
       "      <th>0</th>\n",
       "      <td>1631133785-16</td>\n",
       "      <td>https://www.motortrader.com.my/usedcar</td>\n",
       "      <td>2019 BMW X1 2.0 sDrive20i Dual Clutch (CKD) (A...</td>\n",
       "      <td>https://www.motortrader.com.my/usedcar/2109080...</td>\n",
       "      <td>2019 BMW X1 2.0 sDrive20i Dual Clutch (CKD) (A...</td>\n",
       "      <td>RM 176,888\\n\\n\\n\\n RM2,385 / Month\\n\\n ROADTAX...</td>\n",
       "      <td>2019</td>\n",
       "      <td>Kuala Lumpur</td>\n",
       "      <td>BMW</td>\n",
       "      <td>X1</td>\n",
       "      <td>2.0 sDrive20i Dual Clutch (CKD) (A) TIPTOP CON...</td>\n",
       "      <td>55,000 - 59,999km</td>\n",
       "      <td>Blue</td>\n",
       "      <td>Automatic</td>\n",
       "      <td>2000cc</td>\n",
       "      <td>SUV</td>\n",
       "      <td>LKF MOTORS ENTERPRISE (002920315-V)</td>\n",
       "      <td>Dealer</td>\n",
       "      <td>5.0</td>\n",
       "      <td>https://www.motortrader.com.my/usedcar/page/5?...</td>\n",
       "    </tr>\n",
       "    <tr>\n",
       "      <th>1</th>\n",
       "      <td>1631133944-55</td>\n",
       "      <td>https://www.motortrader.com.my/usedcar</td>\n",
       "      <td>2014 TOYOTA ALPHARD 2.4 X (FREE 2 YEARS CAR WA...</td>\n",
       "      <td>https://www.motortrader.com.my/usedcar/2010280...</td>\n",
       "      <td>2014 TOYOTA ALPHARD 2.4 X (FREE 2 YEARS CAR WA...</td>\n",
       "      <td>RM 112,800\\n\\n\\n\\n RM1,521 / Month\\n\\n ROADTAX...</td>\n",
       "      <td>2014</td>\n",
       "      <td>Kuala Lumpur</td>\n",
       "      <td>TOYOTA</td>\n",
       "      <td>ALPHARD</td>\n",
       "      <td>TOYOTA ALPHARD 2.4 X FACELIFT (A)</td>\n",
       "      <td>130,000 - 134,999km</td>\n",
       "      <td>Silver</td>\n",
       "      <td>Automatic</td>\n",
       "      <td>2400cc</td>\n",
       "      <td>MPV</td>\n",
       "      <td>KEONG HENG AUTO SDN BHD - MICHAEL</td>\n",
       "      <td>Dealer</td>\n",
       "      <td>3.0</td>\n",
       "      <td>https://www.motortrader.com.my/usedcar/page/3?...</td>\n",
       "    </tr>\n",
       "    <tr>\n",
       "      <th>2</th>\n",
       "      <td>1631134000-69</td>\n",
       "      <td>https://www.motortrader.com.my/usedcar</td>\n",
       "      <td>2009 TOYOTA ESTIMA 2.4 Aeras (Free 2 Years Car...</td>\n",
       "      <td>https://www.motortrader.com.my/usedcar/2108210...</td>\n",
       "      <td>2009 TOYOTA ESTIMA 2.4 Aeras (Free 2 Years Car...</td>\n",
       "      <td>RM 66,800\\n\\n\\n\\n RM901 / Month\\n\\n ROADTAX RM...</td>\n",
       "      <td>2009</td>\n",
       "      <td>Kuala Lumpur</td>\n",
       "      <td>TOYOTA</td>\n",
       "      <td>ESTIMA</td>\n",
       "      <td>Toyota Estima 2.4 Aeras (A)</td>\n",
       "      <td>125,000 - 129,999km</td>\n",
       "      <td>White</td>\n",
       "      <td>Automatic</td>\n",
       "      <td>2400cc</td>\n",
       "      <td>MPV</td>\n",
       "      <td>KEONG HENG AUTO SDN BHD - KEN</td>\n",
       "      <td>Dealer</td>\n",
       "      <td>2.0</td>\n",
       "      <td>https://www.motortrader.com.my/usedcar/page/2?...</td>\n",
       "    </tr>\n",
       "    <tr>\n",
       "      <th>3</th>\n",
       "      <td>1631134044-82</td>\n",
       "      <td>https://www.motortrader.com.my/usedcar</td>\n",
       "      <td>2013 TOYOTA VELLFIRE 3.5 V L EDITION FACELIFT ...</td>\n",
       "      <td>https://www.motortrader.com.my/usedcar/2104130...</td>\n",
       "      <td>2013 TOYOTA VELLFIRE 3.5 V L EDITION FACELIFT ...</td>\n",
       "      <td>RM 118,800\\n\\n\\n\\n RM1,602 / Month\\n\\n ROADTAX...</td>\n",
       "      <td>2013</td>\n",
       "      <td>Kuala Lumpur</td>\n",
       "      <td>TOYOTA</td>\n",
       "      <td>VELLFIRE</td>\n",
       "      <td>3.5 V L EDITION FACELIFT</td>\n",
       "      <td>115,000 - 119,999km</td>\n",
       "      <td>White</td>\n",
       "      <td>Automatic</td>\n",
       "      <td>3500cc</td>\n",
       "      <td>MPV</td>\n",
       "      <td>KEONG HENG AUTO SDN BHD - VINCENT</td>\n",
       "      <td>Dealer</td>\n",
       "      <td>NaN</td>\n",
       "      <td>NaN</td>\n",
       "    </tr>\n",
       "    <tr>\n",
       "      <th>4</th>\n",
       "      <td>1631134020-75</td>\n",
       "      <td>https://www.motortrader.com.my/usedcar</td>\n",
       "      <td>2016 BMW 3 SERIES 2016 BMW 320I SPORT LINE 2.0...</td>\n",
       "      <td>https://www.motortrader.com.my/usedcar/2108240...</td>\n",
       "      <td>2016 BMW 3 SERIES 2016 BMW 320I SPORT LINE 2.0...</td>\n",
       "      <td>RM 119,800\\n\\n\\n\\n RM1,615 / Month\\n\\n ROADTAX...</td>\n",
       "      <td>2016</td>\n",
       "      <td>Kuala Lumpur</td>\n",
       "      <td>BMW</td>\n",
       "      <td>3 SERIES</td>\n",
       "      <td>2016 BMW 320I SPORT LINE 2.0 FACELIFT (A) CKD</td>\n",
       "      <td>70,000 - 74,999km</td>\n",
       "      <td>Grey</td>\n",
       "      <td>Automatic</td>\n",
       "      <td>2000cc</td>\n",
       "      <td>Sedan</td>\n",
       "      <td>KEONG HENG AUTO SDN BHD - CK</td>\n",
       "      <td>Dealer</td>\n",
       "      <td>2.0</td>\n",
       "      <td>https://www.motortrader.com.my/usedcar/page/2?...</td>\n",
       "    </tr>\n",
       "  </tbody>\n",
       "</table>\n",
       "</div>"
      ],
      "text/plain": [
       "  web-scraper-order                   web-scraper-start-url  \\\n",
       "0     1631133785-16  https://www.motortrader.com.my/usedcar   \n",
       "1     1631133944-55  https://www.motortrader.com.my/usedcar   \n",
       "2     1631134000-69  https://www.motortrader.com.my/usedcar   \n",
       "3     1631134044-82  https://www.motortrader.com.my/usedcar   \n",
       "4     1631134020-75  https://www.motortrader.com.my/usedcar   \n",
       "\n",
       "                                             usedcar  \\\n",
       "0  2019 BMW X1 2.0 sDrive20i Dual Clutch (CKD) (A...   \n",
       "1  2014 TOYOTA ALPHARD 2.4 X (FREE 2 YEARS CAR WA...   \n",
       "2  2009 TOYOTA ESTIMA 2.4 Aeras (Free 2 Years Car...   \n",
       "3  2013 TOYOTA VELLFIRE 3.5 V L EDITION FACELIFT ...   \n",
       "4  2016 BMW 3 SERIES 2016 BMW 320I SPORT LINE 2.0...   \n",
       "\n",
       "                                        usedcar-href  \\\n",
       "0  https://www.motortrader.com.my/usedcar/2109080...   \n",
       "1  https://www.motortrader.com.my/usedcar/2010280...   \n",
       "2  https://www.motortrader.com.my/usedcar/2108210...   \n",
       "3  https://www.motortrader.com.my/usedcar/2104130...   \n",
       "4  https://www.motortrader.com.my/usedcar/2108240...   \n",
       "\n",
       "                                               items  \\\n",
       "0  2019 BMW X1 2.0 sDrive20i Dual Clutch (CKD) (A...   \n",
       "1  2014 TOYOTA ALPHARD 2.4 X (FREE 2 YEARS CAR WA...   \n",
       "2  2009 TOYOTA ESTIMA 2.4 Aeras (Free 2 Years Car...   \n",
       "3  2013 TOYOTA VELLFIRE 3.5 V L EDITION FACELIFT ...   \n",
       "4  2016 BMW 3 SERIES 2016 BMW 320I SPORT LINE 2.0...   \n",
       "\n",
       "                                               price  year      location  \\\n",
       "0  RM 176,888\\n\\n\\n\\n RM2,385 / Month\\n\\n ROADTAX...  2019  Kuala Lumpur   \n",
       "1  RM 112,800\\n\\n\\n\\n RM1,521 / Month\\n\\n ROADTAX...  2014  Kuala Lumpur   \n",
       "2  RM 66,800\\n\\n\\n\\n RM901 / Month\\n\\n ROADTAX RM...  2009  Kuala Lumpur   \n",
       "3  RM 118,800\\n\\n\\n\\n RM1,602 / Month\\n\\n ROADTAX...  2013  Kuala Lumpur   \n",
       "4  RM 119,800\\n\\n\\n\\n RM1,615 / Month\\n\\n ROADTAX...  2016  Kuala Lumpur   \n",
       "\n",
       "     make     model                                            variant  \\\n",
       "0     BMW        X1  2.0 sDrive20i Dual Clutch (CKD) (A) TIPTOP CON...   \n",
       "1  TOYOTA   ALPHARD                  TOYOTA ALPHARD 2.4 X FACELIFT (A)   \n",
       "2  TOYOTA    ESTIMA                        Toyota Estima 2.4 Aeras (A)   \n",
       "3  TOYOTA  VELLFIRE                           3.5 V L EDITION FACELIFT   \n",
       "4     BMW  3 SERIES      2016 BMW 320I SPORT LINE 2.0 FACELIFT (A) CKD   \n",
       "\n",
       "               mileage   color transmission engine displacement body type  \\\n",
       "0    55,000 - 59,999km    Blue    Automatic              2000cc       SUV   \n",
       "1  130,000 - 134,999km  Silver    Automatic              2400cc       MPV   \n",
       "2  125,000 - 129,999km   White    Automatic              2400cc       MPV   \n",
       "3  115,000 - 119,999km   White    Automatic              3500cc       MPV   \n",
       "4    70,000 - 74,999km    Grey    Automatic              2000cc     Sedan   \n",
       "\n",
       "                                dealer  seller  pages  \\\n",
       "0  LKF MOTORS ENTERPRISE (002920315-V)  Dealer    5.0   \n",
       "1    KEONG HENG AUTO SDN BHD - MICHAEL  Dealer    3.0   \n",
       "2        KEONG HENG AUTO SDN BHD - KEN  Dealer    2.0   \n",
       "3    KEONG HENG AUTO SDN BHD - VINCENT  Dealer    NaN   \n",
       "4         KEONG HENG AUTO SDN BHD - CK  Dealer    2.0   \n",
       "\n",
       "                                          pages-href  \n",
       "0  https://www.motortrader.com.my/usedcar/page/5?...  \n",
       "1  https://www.motortrader.com.my/usedcar/page/3?...  \n",
       "2  https://www.motortrader.com.my/usedcar/page/2?...  \n",
       "3                                                NaN  \n",
       "4  https://www.motortrader.com.my/usedcar/page/2?...  "
      ]
     },
     "execution_count": 3,
     "metadata": {},
     "output_type": "execute_result"
    }
   ],
   "source": [
    "df.head()"
   ]
  },
  {
   "cell_type": "code",
   "execution_count": 4,
   "metadata": {},
   "outputs": [
    {
     "data": {
      "text/plain": [
       "(12572, 20)"
      ]
     },
     "execution_count": 4,
     "metadata": {},
     "output_type": "execute_result"
    }
   ],
   "source": [
    "df.shape"
   ]
  },
  {
   "cell_type": "code",
   "execution_count": 5,
   "metadata": {},
   "outputs": [],
   "source": [
    "pd.set_option('display.max_columns', 100)"
   ]
  },
  {
   "cell_type": "code",
   "execution_count": 6,
   "metadata": {},
   "outputs": [
    {
     "data": {
      "text/html": [
       "<div>\n",
       "<style scoped>\n",
       "    .dataframe tbody tr th:only-of-type {\n",
       "        vertical-align: middle;\n",
       "    }\n",
       "\n",
       "    .dataframe tbody tr th {\n",
       "        vertical-align: top;\n",
       "    }\n",
       "\n",
       "    .dataframe thead th {\n",
       "        text-align: right;\n",
       "    }\n",
       "</style>\n",
       "<table border=\"1\" class=\"dataframe\">\n",
       "  <thead>\n",
       "    <tr style=\"text-align: right;\">\n",
       "      <th></th>\n",
       "      <th>web-scraper-order</th>\n",
       "      <th>web-scraper-start-url</th>\n",
       "      <th>usedcar</th>\n",
       "      <th>usedcar-href</th>\n",
       "      <th>items</th>\n",
       "      <th>price</th>\n",
       "      <th>year</th>\n",
       "      <th>location</th>\n",
       "      <th>make</th>\n",
       "      <th>model</th>\n",
       "      <th>variant</th>\n",
       "      <th>mileage</th>\n",
       "      <th>color</th>\n",
       "      <th>transmission</th>\n",
       "      <th>engine displacement</th>\n",
       "      <th>body type</th>\n",
       "      <th>dealer</th>\n",
       "      <th>seller</th>\n",
       "      <th>pages</th>\n",
       "      <th>pages-href</th>\n",
       "    </tr>\n",
       "  </thead>\n",
       "  <tbody>\n",
       "    <tr>\n",
       "      <th>0</th>\n",
       "      <td>1631133785-16</td>\n",
       "      <td>https://www.motortrader.com.my/usedcar</td>\n",
       "      <td>2019 BMW X1 2.0 sDrive20i Dual Clutch (CKD) (A...</td>\n",
       "      <td>https://www.motortrader.com.my/usedcar/2109080...</td>\n",
       "      <td>2019 BMW X1 2.0 sDrive20i Dual Clutch (CKD) (A...</td>\n",
       "      <td>RM 176,888\\n\\n\\n\\n RM2,385 / Month\\n\\n ROADTAX...</td>\n",
       "      <td>2019</td>\n",
       "      <td>Kuala Lumpur</td>\n",
       "      <td>BMW</td>\n",
       "      <td>X1</td>\n",
       "      <td>2.0 sDrive20i Dual Clutch (CKD) (A) TIPTOP CON...</td>\n",
       "      <td>55,000 - 59,999km</td>\n",
       "      <td>Blue</td>\n",
       "      <td>Automatic</td>\n",
       "      <td>2000cc</td>\n",
       "      <td>SUV</td>\n",
       "      <td>LKF MOTORS ENTERPRISE (002920315-V)</td>\n",
       "      <td>Dealer</td>\n",
       "      <td>5.0</td>\n",
       "      <td>https://www.motortrader.com.my/usedcar/page/5?...</td>\n",
       "    </tr>\n",
       "  </tbody>\n",
       "</table>\n",
       "</div>"
      ],
      "text/plain": [
       "  web-scraper-order                   web-scraper-start-url  \\\n",
       "0     1631133785-16  https://www.motortrader.com.my/usedcar   \n",
       "\n",
       "                                             usedcar  \\\n",
       "0  2019 BMW X1 2.0 sDrive20i Dual Clutch (CKD) (A...   \n",
       "\n",
       "                                        usedcar-href  \\\n",
       "0  https://www.motortrader.com.my/usedcar/2109080...   \n",
       "\n",
       "                                               items  \\\n",
       "0  2019 BMW X1 2.0 sDrive20i Dual Clutch (CKD) (A...   \n",
       "\n",
       "                                               price  year      location make  \\\n",
       "0  RM 176,888\\n\\n\\n\\n RM2,385 / Month\\n\\n ROADTAX...  2019  Kuala Lumpur  BMW   \n",
       "\n",
       "  model                                            variant            mileage  \\\n",
       "0    X1  2.0 sDrive20i Dual Clutch (CKD) (A) TIPTOP CON...  55,000 - 59,999km   \n",
       "\n",
       "  color transmission engine displacement body type  \\\n",
       "0  Blue    Automatic              2000cc       SUV   \n",
       "\n",
       "                                dealer  seller  pages  \\\n",
       "0  LKF MOTORS ENTERPRISE (002920315-V)  Dealer    5.0   \n",
       "\n",
       "                                          pages-href  \n",
       "0  https://www.motortrader.com.my/usedcar/page/5?...  "
      ]
     },
     "execution_count": 6,
     "metadata": {},
     "output_type": "execute_result"
    }
   ],
   "source": [
    "df.head(1)"
   ]
  },
  {
   "cell_type": "code",
   "execution_count": 7,
   "metadata": {},
   "outputs": [
    {
     "data": {
      "text/plain": [
       "0        2019\n",
       "1        2014\n",
       "2        2009\n",
       "3        2013\n",
       "4        2016\n",
       "         ... \n",
       "12567    2018\n",
       "12568    2018\n",
       "12569    2015\n",
       "12570    2010\n",
       "12571    2017\n",
       "Name: year, Length: 12572, dtype: int64"
      ]
     },
     "execution_count": 7,
     "metadata": {},
     "output_type": "execute_result"
    }
   ],
   "source": [
    "df['year']"
   ]
  },
  {
   "cell_type": "code",
   "execution_count": 8,
   "metadata": {},
   "outputs": [],
   "source": [
    "df['age'] = df['year'].apply(lambda x: 2021 - x)"
   ]
  },
  {
   "cell_type": "code",
   "execution_count": 9,
   "metadata": {},
   "outputs": [
    {
     "data": {
      "text/html": [
       "<div>\n",
       "<style scoped>\n",
       "    .dataframe tbody tr th:only-of-type {\n",
       "        vertical-align: middle;\n",
       "    }\n",
       "\n",
       "    .dataframe tbody tr th {\n",
       "        vertical-align: top;\n",
       "    }\n",
       "\n",
       "    .dataframe thead th {\n",
       "        text-align: right;\n",
       "    }\n",
       "</style>\n",
       "<table border=\"1\" class=\"dataframe\">\n",
       "  <thead>\n",
       "    <tr style=\"text-align: right;\">\n",
       "      <th></th>\n",
       "      <th>web-scraper-order</th>\n",
       "      <th>web-scraper-start-url</th>\n",
       "      <th>usedcar</th>\n",
       "      <th>usedcar-href</th>\n",
       "      <th>items</th>\n",
       "      <th>price</th>\n",
       "      <th>year</th>\n",
       "      <th>location</th>\n",
       "      <th>make</th>\n",
       "      <th>model</th>\n",
       "      <th>variant</th>\n",
       "      <th>mileage</th>\n",
       "      <th>color</th>\n",
       "      <th>transmission</th>\n",
       "      <th>engine displacement</th>\n",
       "      <th>body type</th>\n",
       "      <th>dealer</th>\n",
       "      <th>seller</th>\n",
       "      <th>pages</th>\n",
       "      <th>pages-href</th>\n",
       "      <th>age</th>\n",
       "    </tr>\n",
       "  </thead>\n",
       "  <tbody>\n",
       "    <tr>\n",
       "      <th>0</th>\n",
       "      <td>1631133785-16</td>\n",
       "      <td>https://www.motortrader.com.my/usedcar</td>\n",
       "      <td>2019 BMW X1 2.0 sDrive20i Dual Clutch (CKD) (A...</td>\n",
       "      <td>https://www.motortrader.com.my/usedcar/2109080...</td>\n",
       "      <td>2019 BMW X1 2.0 sDrive20i Dual Clutch (CKD) (A...</td>\n",
       "      <td>RM 176,888\\n\\n\\n\\n RM2,385 / Month\\n\\n ROADTAX...</td>\n",
       "      <td>2019</td>\n",
       "      <td>Kuala Lumpur</td>\n",
       "      <td>BMW</td>\n",
       "      <td>X1</td>\n",
       "      <td>2.0 sDrive20i Dual Clutch (CKD) (A) TIPTOP CON...</td>\n",
       "      <td>55,000 - 59,999km</td>\n",
       "      <td>Blue</td>\n",
       "      <td>Automatic</td>\n",
       "      <td>2000cc</td>\n",
       "      <td>SUV</td>\n",
       "      <td>LKF MOTORS ENTERPRISE (002920315-V)</td>\n",
       "      <td>Dealer</td>\n",
       "      <td>5.0</td>\n",
       "      <td>https://www.motortrader.com.my/usedcar/page/5?...</td>\n",
       "      <td>2</td>\n",
       "    </tr>\n",
       "    <tr>\n",
       "      <th>1</th>\n",
       "      <td>1631133944-55</td>\n",
       "      <td>https://www.motortrader.com.my/usedcar</td>\n",
       "      <td>2014 TOYOTA ALPHARD 2.4 X (FREE 2 YEARS CAR WA...</td>\n",
       "      <td>https://www.motortrader.com.my/usedcar/2010280...</td>\n",
       "      <td>2014 TOYOTA ALPHARD 2.4 X (FREE 2 YEARS CAR WA...</td>\n",
       "      <td>RM 112,800\\n\\n\\n\\n RM1,521 / Month\\n\\n ROADTAX...</td>\n",
       "      <td>2014</td>\n",
       "      <td>Kuala Lumpur</td>\n",
       "      <td>TOYOTA</td>\n",
       "      <td>ALPHARD</td>\n",
       "      <td>TOYOTA ALPHARD 2.4 X FACELIFT (A)</td>\n",
       "      <td>130,000 - 134,999km</td>\n",
       "      <td>Silver</td>\n",
       "      <td>Automatic</td>\n",
       "      <td>2400cc</td>\n",
       "      <td>MPV</td>\n",
       "      <td>KEONG HENG AUTO SDN BHD - MICHAEL</td>\n",
       "      <td>Dealer</td>\n",
       "      <td>3.0</td>\n",
       "      <td>https://www.motortrader.com.my/usedcar/page/3?...</td>\n",
       "      <td>7</td>\n",
       "    </tr>\n",
       "    <tr>\n",
       "      <th>2</th>\n",
       "      <td>1631134000-69</td>\n",
       "      <td>https://www.motortrader.com.my/usedcar</td>\n",
       "      <td>2009 TOYOTA ESTIMA 2.4 Aeras (Free 2 Years Car...</td>\n",
       "      <td>https://www.motortrader.com.my/usedcar/2108210...</td>\n",
       "      <td>2009 TOYOTA ESTIMA 2.4 Aeras (Free 2 Years Car...</td>\n",
       "      <td>RM 66,800\\n\\n\\n\\n RM901 / Month\\n\\n ROADTAX RM...</td>\n",
       "      <td>2009</td>\n",
       "      <td>Kuala Lumpur</td>\n",
       "      <td>TOYOTA</td>\n",
       "      <td>ESTIMA</td>\n",
       "      <td>Toyota Estima 2.4 Aeras (A)</td>\n",
       "      <td>125,000 - 129,999km</td>\n",
       "      <td>White</td>\n",
       "      <td>Automatic</td>\n",
       "      <td>2400cc</td>\n",
       "      <td>MPV</td>\n",
       "      <td>KEONG HENG AUTO SDN BHD - KEN</td>\n",
       "      <td>Dealer</td>\n",
       "      <td>2.0</td>\n",
       "      <td>https://www.motortrader.com.my/usedcar/page/2?...</td>\n",
       "      <td>12</td>\n",
       "    </tr>\n",
       "    <tr>\n",
       "      <th>3</th>\n",
       "      <td>1631134044-82</td>\n",
       "      <td>https://www.motortrader.com.my/usedcar</td>\n",
       "      <td>2013 TOYOTA VELLFIRE 3.5 V L EDITION FACELIFT ...</td>\n",
       "      <td>https://www.motortrader.com.my/usedcar/2104130...</td>\n",
       "      <td>2013 TOYOTA VELLFIRE 3.5 V L EDITION FACELIFT ...</td>\n",
       "      <td>RM 118,800\\n\\n\\n\\n RM1,602 / Month\\n\\n ROADTAX...</td>\n",
       "      <td>2013</td>\n",
       "      <td>Kuala Lumpur</td>\n",
       "      <td>TOYOTA</td>\n",
       "      <td>VELLFIRE</td>\n",
       "      <td>3.5 V L EDITION FACELIFT</td>\n",
       "      <td>115,000 - 119,999km</td>\n",
       "      <td>White</td>\n",
       "      <td>Automatic</td>\n",
       "      <td>3500cc</td>\n",
       "      <td>MPV</td>\n",
       "      <td>KEONG HENG AUTO SDN BHD - VINCENT</td>\n",
       "      <td>Dealer</td>\n",
       "      <td>NaN</td>\n",
       "      <td>NaN</td>\n",
       "      <td>8</td>\n",
       "    </tr>\n",
       "    <tr>\n",
       "      <th>4</th>\n",
       "      <td>1631134020-75</td>\n",
       "      <td>https://www.motortrader.com.my/usedcar</td>\n",
       "      <td>2016 BMW 3 SERIES 2016 BMW 320I SPORT LINE 2.0...</td>\n",
       "      <td>https://www.motortrader.com.my/usedcar/2108240...</td>\n",
       "      <td>2016 BMW 3 SERIES 2016 BMW 320I SPORT LINE 2.0...</td>\n",
       "      <td>RM 119,800\\n\\n\\n\\n RM1,615 / Month\\n\\n ROADTAX...</td>\n",
       "      <td>2016</td>\n",
       "      <td>Kuala Lumpur</td>\n",
       "      <td>BMW</td>\n",
       "      <td>3 SERIES</td>\n",
       "      <td>2016 BMW 320I SPORT LINE 2.0 FACELIFT (A) CKD</td>\n",
       "      <td>70,000 - 74,999km</td>\n",
       "      <td>Grey</td>\n",
       "      <td>Automatic</td>\n",
       "      <td>2000cc</td>\n",
       "      <td>Sedan</td>\n",
       "      <td>KEONG HENG AUTO SDN BHD - CK</td>\n",
       "      <td>Dealer</td>\n",
       "      <td>2.0</td>\n",
       "      <td>https://www.motortrader.com.my/usedcar/page/2?...</td>\n",
       "      <td>5</td>\n",
       "    </tr>\n",
       "  </tbody>\n",
       "</table>\n",
       "</div>"
      ],
      "text/plain": [
       "  web-scraper-order                   web-scraper-start-url  \\\n",
       "0     1631133785-16  https://www.motortrader.com.my/usedcar   \n",
       "1     1631133944-55  https://www.motortrader.com.my/usedcar   \n",
       "2     1631134000-69  https://www.motortrader.com.my/usedcar   \n",
       "3     1631134044-82  https://www.motortrader.com.my/usedcar   \n",
       "4     1631134020-75  https://www.motortrader.com.my/usedcar   \n",
       "\n",
       "                                             usedcar  \\\n",
       "0  2019 BMW X1 2.0 sDrive20i Dual Clutch (CKD) (A...   \n",
       "1  2014 TOYOTA ALPHARD 2.4 X (FREE 2 YEARS CAR WA...   \n",
       "2  2009 TOYOTA ESTIMA 2.4 Aeras (Free 2 Years Car...   \n",
       "3  2013 TOYOTA VELLFIRE 3.5 V L EDITION FACELIFT ...   \n",
       "4  2016 BMW 3 SERIES 2016 BMW 320I SPORT LINE 2.0...   \n",
       "\n",
       "                                        usedcar-href  \\\n",
       "0  https://www.motortrader.com.my/usedcar/2109080...   \n",
       "1  https://www.motortrader.com.my/usedcar/2010280...   \n",
       "2  https://www.motortrader.com.my/usedcar/2108210...   \n",
       "3  https://www.motortrader.com.my/usedcar/2104130...   \n",
       "4  https://www.motortrader.com.my/usedcar/2108240...   \n",
       "\n",
       "                                               items  \\\n",
       "0  2019 BMW X1 2.0 sDrive20i Dual Clutch (CKD) (A...   \n",
       "1  2014 TOYOTA ALPHARD 2.4 X (FREE 2 YEARS CAR WA...   \n",
       "2  2009 TOYOTA ESTIMA 2.4 Aeras (Free 2 Years Car...   \n",
       "3  2013 TOYOTA VELLFIRE 3.5 V L EDITION FACELIFT ...   \n",
       "4  2016 BMW 3 SERIES 2016 BMW 320I SPORT LINE 2.0...   \n",
       "\n",
       "                                               price  year      location  \\\n",
       "0  RM 176,888\\n\\n\\n\\n RM2,385 / Month\\n\\n ROADTAX...  2019  Kuala Lumpur   \n",
       "1  RM 112,800\\n\\n\\n\\n RM1,521 / Month\\n\\n ROADTAX...  2014  Kuala Lumpur   \n",
       "2  RM 66,800\\n\\n\\n\\n RM901 / Month\\n\\n ROADTAX RM...  2009  Kuala Lumpur   \n",
       "3  RM 118,800\\n\\n\\n\\n RM1,602 / Month\\n\\n ROADTAX...  2013  Kuala Lumpur   \n",
       "4  RM 119,800\\n\\n\\n\\n RM1,615 / Month\\n\\n ROADTAX...  2016  Kuala Lumpur   \n",
       "\n",
       "     make     model                                            variant  \\\n",
       "0     BMW        X1  2.0 sDrive20i Dual Clutch (CKD) (A) TIPTOP CON...   \n",
       "1  TOYOTA   ALPHARD                  TOYOTA ALPHARD 2.4 X FACELIFT (A)   \n",
       "2  TOYOTA    ESTIMA                        Toyota Estima 2.4 Aeras (A)   \n",
       "3  TOYOTA  VELLFIRE                           3.5 V L EDITION FACELIFT   \n",
       "4     BMW  3 SERIES      2016 BMW 320I SPORT LINE 2.0 FACELIFT (A) CKD   \n",
       "\n",
       "               mileage   color transmission engine displacement body type  \\\n",
       "0    55,000 - 59,999km    Blue    Automatic              2000cc       SUV   \n",
       "1  130,000 - 134,999km  Silver    Automatic              2400cc       MPV   \n",
       "2  125,000 - 129,999km   White    Automatic              2400cc       MPV   \n",
       "3  115,000 - 119,999km   White    Automatic              3500cc       MPV   \n",
       "4    70,000 - 74,999km    Grey    Automatic              2000cc     Sedan   \n",
       "\n",
       "                                dealer  seller  pages  \\\n",
       "0  LKF MOTORS ENTERPRISE (002920315-V)  Dealer    5.0   \n",
       "1    KEONG HENG AUTO SDN BHD - MICHAEL  Dealer    3.0   \n",
       "2        KEONG HENG AUTO SDN BHD - KEN  Dealer    2.0   \n",
       "3    KEONG HENG AUTO SDN BHD - VINCENT  Dealer    NaN   \n",
       "4         KEONG HENG AUTO SDN BHD - CK  Dealer    2.0   \n",
       "\n",
       "                                          pages-href  age  \n",
       "0  https://www.motortrader.com.my/usedcar/page/5?...    2  \n",
       "1  https://www.motortrader.com.my/usedcar/page/3?...    7  \n",
       "2  https://www.motortrader.com.my/usedcar/page/2?...   12  \n",
       "3                                                NaN    8  \n",
       "4  https://www.motortrader.com.my/usedcar/page/2?...    5  "
      ]
     },
     "execution_count": 9,
     "metadata": {},
     "output_type": "execute_result"
    }
   ],
   "source": [
    "df.head()"
   ]
  },
  {
   "cell_type": "code",
   "execution_count": 10,
   "metadata": {},
   "outputs": [
    {
     "data": {
      "text/plain": [
       "Kuala Lumpur       5943\n",
       "Selangor           5313\n",
       "Perak               649\n",
       "Johor               486\n",
       "Penang               63\n",
       "Melaka               37\n",
       "Kedah                19\n",
       "Negeri Sembilan      18\n",
       "Terengganu           13\n",
       "Sabah                10\n",
       "Sarawak               8\n",
       "Pahang                8\n",
       "Kelantan              5\n",
       "Name: location, dtype: int64"
      ]
     },
     "execution_count": 10,
     "metadata": {},
     "output_type": "execute_result"
    }
   ],
   "source": [
    "loc_counts = df['location'].value_counts()\n",
    "loc_counts"
   ]
  },
  {
   "cell_type": "code",
   "execution_count": 11,
   "metadata": {},
   "outputs": [
    {
     "data": {
      "text/plain": [
       "0        RM 176,888\\n\\n\\n\\n RM2,385 / Month\\n\\n ROADTAX...\n",
       "1        RM 112,800\\n\\n\\n\\n RM1,521 / Month\\n\\n ROADTAX...\n",
       "2        RM 66,800\\n\\n\\n\\n RM901 / Month\\n\\n ROADTAX RM...\n",
       "3        RM 118,800\\n\\n\\n\\n RM1,602 / Month\\n\\n ROADTAX...\n",
       "4        RM 119,800\\n\\n\\n\\n RM1,615 / Month\\n\\n ROADTAX...\n",
       "                               ...                        \n",
       "12567    RM 79,000\\n\\n\\n\\n RM1,065 / Month\\n\\n ROADTAX ...\n",
       "12568    RM 43,300\\n\\n\\n\\n RM584 / Month\\n\\n ROADTAX RM...\n",
       "12569    RM 52,688\\n\\n\\n\\n RM710 / Month\\n\\n ROADTAX RM...\n",
       "12570    RM 89,688\\n\\n\\n\\n RM1,209 / Month\\n\\n ROADTAX ...\n",
       "12571    RM 105,800\\n\\n\\n\\n RM1,426 / Month\\n\\n ROADTAX...\n",
       "Name: price, Length: 12572, dtype: object"
      ]
     },
     "execution_count": 11,
     "metadata": {},
     "output_type": "execute_result"
    }
   ],
   "source": [
    "df['price']"
   ]
  },
  {
   "cell_type": "code",
   "execution_count": 12,
   "metadata": {},
   "outputs": [],
   "source": [
    "df['price'] = df['price'].str.split(expand = True)[1]"
   ]
  },
  {
   "cell_type": "code",
   "execution_count": 13,
   "metadata": {},
   "outputs": [
    {
     "data": {
      "text/plain": [
       "0        176,888\n",
       "1        112,800\n",
       "2         66,800\n",
       "3        118,800\n",
       "4        119,800\n",
       "          ...   \n",
       "12567     79,000\n",
       "12568     43,300\n",
       "12569     52,688\n",
       "12570     89,688\n",
       "12571    105,800\n",
       "Name: price, Length: 12572, dtype: object"
      ]
     },
     "execution_count": 13,
     "metadata": {},
     "output_type": "execute_result"
    }
   ],
   "source": [
    "df['price']"
   ]
  },
  {
   "cell_type": "code",
   "execution_count": 14,
   "metadata": {},
   "outputs": [],
   "source": [
    "df['price'] = df['price'].str.replace(',', '').astype(int)"
   ]
  },
  {
   "cell_type": "code",
   "execution_count": 15,
   "metadata": {},
   "outputs": [
    {
     "data": {
      "text/plain": [
       "0        176888\n",
       "1        112800\n",
       "2         66800\n",
       "3        118800\n",
       "4        119800\n",
       "          ...  \n",
       "12567     79000\n",
       "12568     43300\n",
       "12569     52688\n",
       "12570     89688\n",
       "12571    105800\n",
       "Name: price, Length: 12572, dtype: int32"
      ]
     },
     "execution_count": 15,
     "metadata": {},
     "output_type": "execute_result"
    }
   ],
   "source": [
    "df['price']"
   ]
  },
  {
   "cell_type": "code",
   "execution_count": 16,
   "metadata": {},
   "outputs": [
    {
     "data": {
      "text/plain": [
       "False    12572\n",
       "Name: price, dtype: int64"
      ]
     },
     "execution_count": 16,
     "metadata": {},
     "output_type": "execute_result"
    }
   ],
   "source": [
    "df['price'].isnull().value_counts()\n"
   ]
  },
  {
   "cell_type": "code",
   "execution_count": 17,
   "metadata": {},
   "outputs": [
    {
     "data": {
      "text/plain": [
       "(array([1135., 2265., 2419., 1399., 1109.,  808.,  568.,  422.,  290.,\n",
       "         257.,  209.,  190.,  147.,  107.,  117.,  105.,   96.,   69.,\n",
       "          84.,   66.,   54.,   55.,   51.,   56.,   51.]),\n",
       " array([  5000.,  16800.,  28600.,  40400.,  52200.,  64000.,  75800.,\n",
       "         87600.,  99400., 111200., 123000., 134800., 146600., 158400.,\n",
       "        170200., 182000., 193800., 205600., 217400., 229200., 241000.,\n",
       "        252800., 264600., 276400., 288200., 300000.]),\n",
       " <a list of 25 Patch objects>)"
      ]
     },
     "execution_count": 17,
     "metadata": {},
     "output_type": "execute_result"
    },
    {
     "data": {
      "image/png": "[encoded data removed]",
      "text/plain": [
       "<Figure size 432x288 with 1 Axes>"
      ]
     },
     "metadata": {
      "needs_background": "light"
     },
     "output_type": "display_data"
    }
   ],
   "source": [
    "plt.hist(df['price'], 25, range = (5000, 300000))"
   ]
  },
  {
   "cell_type": "code",
   "execution_count": 18,
   "metadata": {},
   "outputs": [
    {
     "data": {
      "text/plain": [
       "0          55,000 - 59,999km\n",
       "1        130,000 - 134,999km\n",
       "2        125,000 - 129,999km\n",
       "3        115,000 - 119,999km\n",
       "4          70,000 - 74,999km\n",
       "                ...         \n",
       "12567      20,000 - 24,999km\n",
       "12568      20,000 - 24,999km\n",
       "12569      65,000 - 69,999km\n",
       "12570      80,000 - 84,999km\n",
       "12571      60,000 - 64,999km\n",
       "Name: mileage, Length: 12572, dtype: object"
      ]
     },
     "execution_count": 18,
     "metadata": {},
     "output_type": "execute_result"
    }
   ],
   "source": [
    "df['mileage']"
   ]
  },
  {
   "cell_type": "code",
   "execution_count": 19,
   "metadata": {},
   "outputs": [],
   "source": [
    "df['mileage'] = df['mileage'].str.split(expand = True)[0]#.astype('float')  #.apply(lambda x : x + 2500)"
   ]
  },
  {
   "cell_type": "code",
   "execution_count": 20,
   "metadata": {},
   "outputs": [],
   "source": [
    "#from unidecode import unidecode\n",
    "\n",
    "df['mileage'] =df['mileage'].str.replace(',', '')"
   ]
  },
  {
   "cell_type": "code",
   "execution_count": 21,
   "metadata": {},
   "outputs": [],
   "source": [
    "df['mileage'] = pd.to_numeric(df['mileage'], errors = 'coerce')\n",
    "df = df.dropna(subset=['mileage'])\n"
   ]
  },
  {
   "cell_type": "code",
   "execution_count": 22,
   "metadata": {},
   "outputs": [
    {
     "data": {
      "text/plain": [
       "False    12303\n",
       "Name: mileage, dtype: int64"
      ]
     },
     "execution_count": 22,
     "metadata": {},
     "output_type": "execute_result"
    }
   ],
   "source": [
    "df['mileage'].isnull().value_counts()"
   ]
  },
  {
   "cell_type": "code",
   "execution_count": 23,
   "metadata": {},
   "outputs": [],
   "source": [
    "df['mileage'] = df['mileage'].astype(int)"
   ]
  },
  {
   "cell_type": "code",
   "execution_count": 24,
   "metadata": {},
   "outputs": [],
   "source": [
    "df['mileage'] = df['mileage'].apply(lambda x : x + 2500)\n"
   ]
  },
  {
   "cell_type": "code",
   "execution_count": 25,
   "metadata": {},
   "outputs": [
    {
     "data": {
      "text/plain": [
       "0         57500\n",
       "1        132500\n",
       "2        127500\n",
       "3        117500\n",
       "4         72500\n",
       "          ...  \n",
       "12567     22500\n",
       "12568     22500\n",
       "12569     67500\n",
       "12570     82500\n",
       "12571     62500\n",
       "Name: mileage, Length: 12303, dtype: int64"
      ]
     },
     "execution_count": 25,
     "metadata": {},
     "output_type": "execute_result"
    }
   ],
   "source": [
    "df['mileage']"
   ]
  },
  {
   "cell_type": "code",
   "execution_count": 26,
   "metadata": {},
   "outputs": [
    {
     "data": {
      "text/plain": [
       "TOYOTA           2327\n",
       "HONDA            1502\n",
       "PROTON           1151\n",
       "PERODUA          1132\n",
       "MERCEDES-BENZ    1122\n",
       "                 ... \n",
       "MAN                 1\n",
       "14 KAKI ISUZU       1\n",
       "SMART               1\n",
       "nissan              1\n",
       "BUS HINO RK1J       1\n",
       "Name: make, Length: 77, dtype: int64"
      ]
     },
     "execution_count": 26,
     "metadata": {},
     "output_type": "execute_result"
    }
   ],
   "source": [
    "df['make'].value_counts()"
   ]
  },
  {
   "cell_type": "code",
   "execution_count": 64,
   "metadata": {},
   "outputs": [
    {
     "data": {
      "text/plain": [
       "Index(['TOYOTA', 'HONDA', 'PROTON', 'PERODUA', 'MERCEDES-BENZ', 'NISSAN',\n",
       "       'BMW', 'MAZDA', 'VOLKSWAGEN', 'HYUNDAI', 'FORD', 'MITSUBISHI', 'KIA',\n",
       "       'AUDI', 'PEUGEOT', 'PORSCHE', 'SUZUKI', 'SUBARU', 'LEXUS', 'MINI',\n",
       "       'LAND ROVER', 'NAZA', 'VOLVO', 'ISUZU', 'CHEVROLET', 'FERRARI',\n",
       "       'LAMBORGHINI', 'BENTLEY', 'INOKOM', 'RENAULT', 'MASERATI', 'JAGUAR',\n",
       "       'DAIHATSU', 'CITROEN', 'SSANGYONG', 'CHERY', 'MAXUS', 'ROLLS-ROYCE',\n",
       "       'HINO', 'INFINITI', 'ASTON MARTIN', 'ALFA ROMEO', 'JEEP', 'GREAT WALL',\n",
       "       'Haval', 'Bus nissan', 'HICOM', 'HUMMER', 'LOTUS', 'NISSAN JA450S',\n",
       "       'ROVER', 'FOTON', 'MCLAREN', 'MAN', 'CADILLAC', 'nissan', 'Daihatsu',\n",
       "       '14 KAKI ISUZU', 'BUS HINO RK1J', 'Bus mercedes', 'ford', 'TESLA',\n",
       "       'yangtze', 'NISSAN JP251', 'AUSTIN', 'CHRYSLER', 'BUS toyota', 'JINBEI',\n",
       "       'CHANGAN', 'GMC', 'Bus hino', 'BUS NISSAN', 'MORRIS', 'SMART', 'Nissan',\n",
       "       'BISON', 'FIAT'],\n",
       "      dtype='object')"
      ]
     },
     "execution_count": 64,
     "metadata": {},
     "output_type": "execute_result"
    }
   ],
   "source": [
    "df['make'].value_counts().index"
   ]
  },
  {
   "cell_type": "code",
   "execution_count": 60,
   "metadata": {},
   "outputs": [
    {
     "data": {
      "text/plain": [
       "array(['BMW', 'TOYOTA', 'PROTON', 'PORSCHE', 'MERCEDES-BENZ', 'NISSAN',\n",
       "       'KIA', 'VOLKSWAGEN', 'HONDA', 'MASERATI', 'LEXUS', 'HYUNDAI',\n",
       "       'PERODUA', 'AUDI', 'MINI', 'VOLVO', 'FERRARI', 'PEUGEOT',\n",
       "       'RENAULT', 'SUZUKI', 'HINO', 'LAND ROVER', 'CITROEN', 'MAZDA',\n",
       "       'FORD', 'Haval', 'MITSUBISHI', 'BENTLEY', 'NAZA', 'SUBARU',\n",
       "       'ISUZU', 'JEEP', 'FOTON', 'INFINITI', 'LOTUS', 'GMC', 'HUMMER',\n",
       "       'CADILLAC', 'ASTON MARTIN', 'LAMBORGHINI', 'MAXUS', 'CHEVROLET',\n",
       "       'CHERY', 'BISON', 'JAGUAR', 'INOKOM', 'FIAT', 'DAIHATSU',\n",
       "       'SSANGYONG', 'HICOM', 'ALFA ROMEO', 'ROLLS-ROYCE', 'JINBEI',\n",
       "       'Bus hino', 'BUS NISSAN', 'Bus nissan', 'Bus mercedes',\n",
       "       'BUS HINO RK1J', 'BUS toyota', 'GREAT WALL', 'Nissan', 'MORRIS',\n",
       "       'TESLA', 'ROVER', 'nissan', 'SMART', 'CHRYSLER', 'NISSAN JP251',\n",
       "       nan, '14 KAKI ISUZU', 'yangtze', 'NISSAN JA450S', 'Daihatsu',\n",
       "       'MAN', 'ford', 'MCLAREN', 'AUSTIN', 'CHANGAN'], dtype=object)"
      ]
     },
     "execution_count": 60,
     "metadata": {},
     "output_type": "execute_result"
    }
   ],
   "source": [
    "df['make'].unique()"
   ]
  },
  {
   "cell_type": "code",
   "execution_count": 57,
   "metadata": {},
   "outputs": [
    {
     "data": {
      "text/plain": [
       "2014    1410\n",
       "2013    1406\n",
       "2015    1300\n",
       "2012    1287\n",
       "2016    1012\n",
       "2011     996\n",
       "2010     820\n",
       "2017     675\n",
       "2009     600\n",
       "2008     525\n",
       "2018     522\n",
       "2007     340\n",
       "2006     319\n",
       "2005     274\n",
       "2019     240\n",
       "2004     202\n",
       "2003     138\n",
       "2002      88\n",
       "2000      67\n",
       "2020      61\n",
       "2001      60\n",
       "1997      53\n",
       "1999      38\n",
       "1996      34\n",
       "1995      23\n",
       "1998      16\n",
       "1994      10\n",
       "2021       8\n",
       "1987       7\n",
       "1993       6\n",
       "1990       5\n",
       "1992       5\n",
       "1991       4\n",
       "1989       3\n",
       "1968       2\n",
       "1988       2\n",
       "1950       1\n",
       "1986       1\n",
       "1978       1\n",
       "1970       1\n",
       "1983       1\n",
       "1973       1\n",
       "1967       1\n",
       "1985       1\n",
       "1982       1\n",
       "1981       1\n",
       "1971       1\n",
       "1979       1\n",
       "1976       1\n",
       "1975       1\n",
       "Name: year, dtype: int64"
      ]
     },
     "execution_count": 57,
     "metadata": {},
     "output_type": "execute_result"
    }
   ],
   "source": [
    "df['year'].value_counts()"
   ]
  },
  {
   "cell_type": "code",
   "execution_count": 34,
   "metadata": {},
   "outputs": [
    {
     "data": {
      "text/plain": [
       "Sedan          4747\n",
       "Hatchback      2050\n",
       "MPV            1749\n",
       "SUV            1687\n",
       "-               823\n",
       "Pickup          507\n",
       "Coupe           378\n",
       "Others          186\n",
       "Wagon           101\n",
       "Commercial       46\n",
       "Convertible      29\n",
       "Name: body type, dtype: int64"
      ]
     },
     "execution_count": 34,
     "metadata": {},
     "output_type": "execute_result"
    }
   ],
   "source": [
    "df['body type'].value_counts()"
   ]
  },
  {
   "cell_type": "code",
   "execution_count": 35,
   "metadata": {},
   "outputs": [
    {
     "data": {
      "text/plain": [
       "Index(['Kuala Lumpur', 'Selangor', 'Perak', 'Johor', 'Penang', 'Melaka',\n",
       "       'Kedah', 'Negeri Sembilan', 'Terengganu', 'Sabah', 'Pahang', 'Sarawak',\n",
       "       'Kelantan'],\n",
       "      dtype='object')"
      ]
     },
     "execution_count": 35,
     "metadata": {},
     "output_type": "execute_result"
    }
   ],
   "source": [
    "loc_counts.index"
   ]
  },
  {
   "cell_type": "code",
   "execution_count": 48,
   "metadata": {},
   "outputs": [
    {
     "data": {
      "text/plain": [
       "Index(['Kuala Lumpur', 'Selangor', 'Perak', 'Johor', 'Penang', 'Melaka',\n",
       "       'Kedah', 'Negeri Sembilan', 'Terengganu', 'Sabah', 'Pahang', 'Kelantan',\n",
       "       'Sarawak'],\n",
       "      dtype='object')"
      ]
     },
     "execution_count": 48,
     "metadata": {},
     "output_type": "execute_result"
    }
   ],
   "source": [
    "df['location'].value_counts().index"
   ]
  },
  {
   "cell_type": "code",
   "execution_count": 49,
   "metadata": {},
   "outputs": [
    {
     "data": {
      "text/plain": [
       "(array([ 0,  1,  2,  3,  4,  5,  6,  7,  8,  9, 10, 11, 12]),\n",
       " <a list of 13 Text xticklabel objects>)"
      ]
     },
     "execution_count": 49,
     "metadata": {},
     "output_type": "execute_result"
    },
    {
     "data": {
      "image/png": "[encoded data removed]",
      "text/plain": [
       "<Figure size 432x288 with 1 Axes>"
      ]
     },
     "metadata": {
      "needs_background": "light"
     },
     "output_type": "display_data"
    }
   ],
   "source": [
    "sns.countplot(x = 'location', data = df, order = df['location'].value_counts().index)\n",
    "plt.xticks(rotation = 90)"
   ]
  },
  {
   "cell_type": "code",
   "execution_count": 43,
   "metadata": {},
   "outputs": [
    {
     "data": {
      "text/plain": [
       "([0, 1, 2, 3, 4, 5, 6, 7, 8, 9, 10, 11, 12],\n",
       " <a list of 13 Text xticklabel objects>)"
      ]
     },
     "execution_count": 43,
     "metadata": {},
     "output_type": "execute_result"
    },
    {
     "data": {
      "image/png": "[encoded data removed]",
      "text/plain": [
       "<Figure size 432x288 with 1 Axes>"
      ]
     },
     "metadata": {
      "needs_background": "light"
     },
     "output_type": "display_data"
    }
   ],
   "source": [
    "plt.bar(df['location'].value_counts().index, df['location'].value_counts())\n",
    "\n",
    "plt.xticks(rotation = 90)"
   ]
  },
  {
   "cell_type": "code",
   "execution_count": 50,
   "metadata": {},
   "outputs": [
    {
     "data": {
      "text/plain": [
       "(array([ 0,  1,  2,  3,  4,  5,  6,  7,  8,  9, 10]),\n",
       " <a list of 11 Text xticklabel objects>)"
      ]
     },
     "execution_count": 50,
     "metadata": {},
     "output_type": "execute_result"
    },
    {
     "data": {
      "image/png": "[encoded data removed]",
      "text/plain": [
       "<Figure size 432x288 with 1 Axes>"
      ]
     },
     "metadata": {
      "needs_background": "light"
     },
     "output_type": "display_data"
    }
   ],
   "source": [
    "sns.countplot(x = 'body type', data = df, order = df['body type'].value_counts().index)\n",
    "plt.xticks(rotation = 90)"
   ]
  },
  {
   "cell_type": "code",
   "execution_count": 59,
   "metadata": {},
   "outputs": [
    {
     "data": {
      "text/plain": [
       "(array([ 0,  1,  2,  3,  4,  5,  6,  7,  8,  9, 10, 11, 12, 13, 14, 15, 16,\n",
       "        17, 18, 19, 20, 21, 22, 23, 24, 25, 26, 27, 28, 29, 30, 31, 32, 33,\n",
       "        34, 35, 36, 37, 38, 39, 40, 41, 42, 43, 44, 45, 46, 47, 48, 49, 50,\n",
       "        51, 52, 53, 54, 55, 56, 57, 58, 59, 60, 61, 62, 63, 64, 65, 66, 67,\n",
       "        68, 69, 70, 71, 72, 73, 74, 75, 76]),\n",
       " <a list of 77 Text xticklabel objects>)"
      ]
     },
     "execution_count": 59,
     "metadata": {},
     "output_type": "execute_result"
    },
    {
     "data": {
      "image/png": "[encoded data removed]",
      "text/plain": [
       "<Figure size 432x288 with 1 Axes>"
      ]
     },
     "metadata": {
      "needs_background": "light"
     },
     "output_type": "display_data"
    }
   ],
   "source": [
    "sns.countplot(x = 'make', data = df, order = df['make'].value_counts().index)\n",
    "plt.xticks(rotation = 90)"
   ]
  },
  {
   "cell_type": "code",
   "execution_count": 65,
   "metadata": {},
   "outputs": [
    {
     "data": {
      "text/html": [
       "<div>\n",
       "<style scoped>\n",
       "    .dataframe tbody tr th:only-of-type {\n",
       "        vertical-align: middle;\n",
       "    }\n",
       "\n",
       "    .dataframe tbody tr th {\n",
       "        vertical-align: top;\n",
       "    }\n",
       "\n",
       "    .dataframe thead th {\n",
       "        text-align: right;\n",
       "    }\n",
       "</style>\n",
       "<table border=\"1\" class=\"dataframe\">\n",
       "  <thead>\n",
       "    <tr style=\"text-align: right;\">\n",
       "      <th></th>\n",
       "      <th>web-scraper-order</th>\n",
       "      <th>web-scraper-start-url</th>\n",
       "      <th>usedcar</th>\n",
       "      <th>usedcar-href</th>\n",
       "      <th>items</th>\n",
       "      <th>price</th>\n",
       "      <th>year</th>\n",
       "      <th>location</th>\n",
       "      <th>make</th>\n",
       "      <th>model</th>\n",
       "      <th>variant</th>\n",
       "      <th>mileage</th>\n",
       "      <th>color</th>\n",
       "      <th>transmission</th>\n",
       "      <th>engine displacement</th>\n",
       "      <th>body type</th>\n",
       "      <th>dealer</th>\n",
       "      <th>seller</th>\n",
       "      <th>pages</th>\n",
       "      <th>pages-href</th>\n",
       "      <th>age</th>\n",
       "    </tr>\n",
       "  </thead>\n",
       "  <tbody>\n",
       "    <tr>\n",
       "      <th>0</th>\n",
       "      <td>1631133785-16</td>\n",
       "      <td>https://www.motortrader.com.my/usedcar</td>\n",
       "      <td>2019 BMW X1 2.0 sDrive20i Dual Clutch (CKD) (A...</td>\n",
       "      <td>https://www.motortrader.com.my/usedcar/2109080...</td>\n",
       "      <td>2019 BMW X1 2.0 sDrive20i Dual Clutch (CKD) (A...</td>\n",
       "      <td>176888</td>\n",
       "      <td>2019</td>\n",
       "      <td>Kuala Lumpur</td>\n",
       "      <td>BMW</td>\n",
       "      <td>X1</td>\n",
       "      <td>2.0 sDrive20i Dual Clutch (CKD) (A) TIPTOP CON...</td>\n",
       "      <td>60000</td>\n",
       "      <td>Blue</td>\n",
       "      <td>Automatic</td>\n",
       "      <td>2000cc</td>\n",
       "      <td>SUV</td>\n",
       "      <td>LKF MOTORS ENTERPRISE (002920315-V)</td>\n",
       "      <td>Dealer</td>\n",
       "      <td>5.0</td>\n",
       "      <td>https://www.motortrader.com.my/usedcar/page/5?...</td>\n",
       "      <td>2</td>\n",
       "    </tr>\n",
       "    <tr>\n",
       "      <th>1</th>\n",
       "      <td>1631133944-55</td>\n",
       "      <td>https://www.motortrader.com.my/usedcar</td>\n",
       "      <td>2014 TOYOTA ALPHARD 2.4 X (FREE 2 YEARS CAR WA...</td>\n",
       "      <td>https://www.motortrader.com.my/usedcar/2010280...</td>\n",
       "      <td>2014 TOYOTA ALPHARD 2.4 X (FREE 2 YEARS CAR WA...</td>\n",
       "      <td>112800</td>\n",
       "      <td>2014</td>\n",
       "      <td>Kuala Lumpur</td>\n",
       "      <td>TOYOTA</td>\n",
       "      <td>ALPHARD</td>\n",
       "      <td>TOYOTA ALPHARD 2.4 X FACELIFT (A)</td>\n",
       "      <td>135000</td>\n",
       "      <td>Silver</td>\n",
       "      <td>Automatic</td>\n",
       "      <td>2400cc</td>\n",
       "      <td>MPV</td>\n",
       "      <td>KEONG HENG AUTO SDN BHD - MICHAEL</td>\n",
       "      <td>Dealer</td>\n",
       "      <td>3.0</td>\n",
       "      <td>https://www.motortrader.com.my/usedcar/page/3?...</td>\n",
       "      <td>7</td>\n",
       "    </tr>\n",
       "    <tr>\n",
       "      <th>2</th>\n",
       "      <td>1631134000-69</td>\n",
       "      <td>https://www.motortrader.com.my/usedcar</td>\n",
       "      <td>2009 TOYOTA ESTIMA 2.4 Aeras (Free 2 Years Car...</td>\n",
       "      <td>https://www.motortrader.com.my/usedcar/2108210...</td>\n",
       "      <td>2009 TOYOTA ESTIMA 2.4 Aeras (Free 2 Years Car...</td>\n",
       "      <td>66800</td>\n",
       "      <td>2009</td>\n",
       "      <td>Kuala Lumpur</td>\n",
       "      <td>TOYOTA</td>\n",
       "      <td>ESTIMA</td>\n",
       "      <td>Toyota Estima 2.4 Aeras (A)</td>\n",
       "      <td>130000</td>\n",
       "      <td>White</td>\n",
       "      <td>Automatic</td>\n",
       "      <td>2400cc</td>\n",
       "      <td>MPV</td>\n",
       "      <td>KEONG HENG AUTO SDN BHD - KEN</td>\n",
       "      <td>Dealer</td>\n",
       "      <td>2.0</td>\n",
       "      <td>https://www.motortrader.com.my/usedcar/page/2?...</td>\n",
       "      <td>12</td>\n",
       "    </tr>\n",
       "    <tr>\n",
       "      <th>3</th>\n",
       "      <td>1631134044-82</td>\n",
       "      <td>https://www.motortrader.com.my/usedcar</td>\n",
       "      <td>2013 TOYOTA VELLFIRE 3.5 V L EDITION FACELIFT ...</td>\n",
       "      <td>https://www.motortrader.com.my/usedcar/2104130...</td>\n",
       "      <td>2013 TOYOTA VELLFIRE 3.5 V L EDITION FACELIFT ...</td>\n",
       "      <td>118800</td>\n",
       "      <td>2013</td>\n",
       "      <td>Kuala Lumpur</td>\n",
       "      <td>TOYOTA</td>\n",
       "      <td>VELLFIRE</td>\n",
       "      <td>3.5 V L EDITION FACELIFT</td>\n",
       "      <td>120000</td>\n",
       "      <td>White</td>\n",
       "      <td>Automatic</td>\n",
       "      <td>3500cc</td>\n",
       "      <td>MPV</td>\n",
       "      <td>KEONG HENG AUTO SDN BHD - VINCENT</td>\n",
       "      <td>Dealer</td>\n",
       "      <td>NaN</td>\n",
       "      <td>NaN</td>\n",
       "      <td>8</td>\n",
       "    </tr>\n",
       "    <tr>\n",
       "      <th>4</th>\n",
       "      <td>1631134020-75</td>\n",
       "      <td>https://www.motortrader.com.my/usedcar</td>\n",
       "      <td>2016 BMW 3 SERIES 2016 BMW 320I SPORT LINE 2.0...</td>\n",
       "      <td>https://www.motortrader.com.my/usedcar/2108240...</td>\n",
       "      <td>2016 BMW 3 SERIES 2016 BMW 320I SPORT LINE 2.0...</td>\n",
       "      <td>119800</td>\n",
       "      <td>2016</td>\n",
       "      <td>Kuala Lumpur</td>\n",
       "      <td>BMW</td>\n",
       "      <td>3 SERIES</td>\n",
       "      <td>2016 BMW 320I SPORT LINE 2.0 FACELIFT (A) CKD</td>\n",
       "      <td>75000</td>\n",
       "      <td>Grey</td>\n",
       "      <td>Automatic</td>\n",
       "      <td>2000cc</td>\n",
       "      <td>Sedan</td>\n",
       "      <td>KEONG HENG AUTO SDN BHD - CK</td>\n",
       "      <td>Dealer</td>\n",
       "      <td>2.0</td>\n",
       "      <td>https://www.motortrader.com.my/usedcar/page/2?...</td>\n",
       "      <td>5</td>\n",
       "    </tr>\n",
       "  </tbody>\n",
       "</table>\n",
       "</div>"
      ],
      "text/plain": [
       "  web-scraper-order                   web-scraper-start-url  \\\n",
       "0     1631133785-16  https://www.motortrader.com.my/usedcar   \n",
       "1     1631133944-55  https://www.motortrader.com.my/usedcar   \n",
       "2     1631134000-69  https://www.motortrader.com.my/usedcar   \n",
       "3     1631134044-82  https://www.motortrader.com.my/usedcar   \n",
       "4     1631134020-75  https://www.motortrader.com.my/usedcar   \n",
       "\n",
       "                                             usedcar  \\\n",
       "0  2019 BMW X1 2.0 sDrive20i Dual Clutch (CKD) (A...   \n",
       "1  2014 TOYOTA ALPHARD 2.4 X (FREE 2 YEARS CAR WA...   \n",
       "2  2009 TOYOTA ESTIMA 2.4 Aeras (Free 2 Years Car...   \n",
       "3  2013 TOYOTA VELLFIRE 3.5 V L EDITION FACELIFT ...   \n",
       "4  2016 BMW 3 SERIES 2016 BMW 320I SPORT LINE 2.0...   \n",
       "\n",
       "                                        usedcar-href  \\\n",
       "0  https://www.motortrader.com.my/usedcar/2109080...   \n",
       "1  https://www.motortrader.com.my/usedcar/2010280...   \n",
       "2  https://www.motortrader.com.my/usedcar/2108210...   \n",
       "3  https://www.motortrader.com.my/usedcar/2104130...   \n",
       "4  https://www.motortrader.com.my/usedcar/2108240...   \n",
       "\n",
       "                                               items   price  year  \\\n",
       "0  2019 BMW X1 2.0 sDrive20i Dual Clutch (CKD) (A...  176888  2019   \n",
       "1  2014 TOYOTA ALPHARD 2.4 X (FREE 2 YEARS CAR WA...  112800  2014   \n",
       "2  2009 TOYOTA ESTIMA 2.4 Aeras (Free 2 Years Car...   66800  2009   \n",
       "3  2013 TOYOTA VELLFIRE 3.5 V L EDITION FACELIFT ...  118800  2013   \n",
       "4  2016 BMW 3 SERIES 2016 BMW 320I SPORT LINE 2.0...  119800  2016   \n",
       "\n",
       "       location    make     model  \\\n",
       "0  Kuala Lumpur     BMW        X1   \n",
       "1  Kuala Lumpur  TOYOTA   ALPHARD   \n",
       "2  Kuala Lumpur  TOYOTA    ESTIMA   \n",
       "3  Kuala Lumpur  TOYOTA  VELLFIRE   \n",
       "4  Kuala Lumpur     BMW  3 SERIES   \n",
       "\n",
       "                                             variant  mileage   color  \\\n",
       "0  2.0 sDrive20i Dual Clutch (CKD) (A) TIPTOP CON...    60000    Blue   \n",
       "1                  TOYOTA ALPHARD 2.4 X FACELIFT (A)   135000  Silver   \n",
       "2                        Toyota Estima 2.4 Aeras (A)   130000   White   \n",
       "3                           3.5 V L EDITION FACELIFT   120000   White   \n",
       "4      2016 BMW 320I SPORT LINE 2.0 FACELIFT (A) CKD    75000    Grey   \n",
       "\n",
       "  transmission engine displacement body type  \\\n",
       "0    Automatic              2000cc       SUV   \n",
       "1    Automatic              2400cc       MPV   \n",
       "2    Automatic              2400cc       MPV   \n",
       "3    Automatic              3500cc       MPV   \n",
       "4    Automatic              2000cc     Sedan   \n",
       "\n",
       "                                dealer  seller  pages  \\\n",
       "0  LKF MOTORS ENTERPRISE (002920315-V)  Dealer    5.0   \n",
       "1    KEONG HENG AUTO SDN BHD - MICHAEL  Dealer    3.0   \n",
       "2        KEONG HENG AUTO SDN BHD - KEN  Dealer    2.0   \n",
       "3    KEONG HENG AUTO SDN BHD - VINCENT  Dealer    NaN   \n",
       "4         KEONG HENG AUTO SDN BHD - CK  Dealer    2.0   \n",
       "\n",
       "                                          pages-href  age  \n",
       "0  https://www.motortrader.com.my/usedcar/page/5?...    2  \n",
       "1  https://www.motortrader.com.my/usedcar/page/3?...    7  \n",
       "2  https://www.motortrader.com.my/usedcar/page/2?...   12  \n",
       "3                                                NaN    8  \n",
       "4  https://www.motortrader.com.my/usedcar/page/2?...    5  "
      ]
     },
     "execution_count": 65,
     "metadata": {},
     "output_type": "execute_result"
    }
   ],
   "source": [
    "df.head()"
   ]
  },
  {
   "cell_type": "code",
   "execution_count": 66,
   "metadata": {},
   "outputs": [
    {
     "data": {
      "text/plain": [
       "0        2000cc\n",
       "1        2400cc\n",
       "2        2400cc\n",
       "3        3500cc\n",
       "4        2000cc\n",
       "          ...  \n",
       "12567    2400cc\n",
       "12568    1500cc\n",
       "12569    1500cc\n",
       "12570    2400cc\n",
       "12571    1600cc\n",
       "Name: engine displacement, Length: 12303, dtype: object"
      ]
     },
     "execution_count": 66,
     "metadata": {},
     "output_type": "execute_result"
    }
   ],
   "source": [
    "df['engine displacement']"
   ]
  },
  {
   "cell_type": "code",
   "execution_count": 67,
   "metadata": {},
   "outputs": [
    {
     "data": {
      "text/plain": [
       "array(['2000cc', '2400cc', '3500cc', '1600cc', '4800cc', '1800cc',\n",
       "       '1500cc', '1300cc', '3000cc', '2200cc', '2500cc', '3800cc',\n",
       "       '2700cc', '1000cc', '6300cc', '1700cc', '1400cc', '4100cc',\n",
       "       '4600cc', '3900cc', '1200cc', '4500cc', '4000cc', '2300cc',\n",
       "       '4700cc', '3700cc', '3200cc', '4400cc', '3600cc', '2800cc',\n",
       "       '5500cc', '5000cc', '5900cc', '3400cc', '2100cc', '850cc',\n",
       "       '4200cc', '6500cc', '5200cc', '1900cc', '4300cc', '2600cc',\n",
       "       '1100cc', '-', '2900cc', '6800cc', '800cc', '5700cc', '5400cc',\n",
       "       '660cc', '6000cc', '8000cc', '300cc', '6600cc', '700cc', '6200cc',\n",
       "       '6400cc', '7000cc', '3300cc', '10000cc', '750cc', '3100cc',\n",
       "       '400cc'], dtype=object)"
      ]
     },
     "execution_count": 67,
     "metadata": {},
     "output_type": "execute_result"
    }
   ],
   "source": [
    "df['engine displacement'].unique()"
   ]
  },
  {
   "cell_type": "code",
   "execution_count": 27,
   "metadata": {},
   "outputs": [
    {
     "name": "stdout",
     "output_type": "stream",
     "text": [
      "<class 'pandas.core.frame.DataFrame'>\n",
      "Int64Index: 12303 entries, 0 to 12571\n",
      "Data columns (total 21 columns):\n",
      " #   Column                 Non-Null Count  Dtype  \n",
      "---  ------                 --------------  -----  \n",
      " 0   web-scraper-order      12303 non-null  object \n",
      " 1   web-scraper-start-url  12303 non-null  object \n",
      " 2   usedcar                12303 non-null  object \n",
      " 3   usedcar-href           12303 non-null  object \n",
      " 4   items                  12303 non-null  object \n",
      " 5   price                  12303 non-null  int32  \n",
      " 6   year                   12303 non-null  int64  \n",
      " 7   location               12303 non-null  object \n",
      " 8   make                   12302 non-null  object \n",
      " 9   model                  12298 non-null  object \n",
      " 10  variant                12217 non-null  object \n",
      " 11  mileage                12303 non-null  int64  \n",
      " 12  color                  12303 non-null  object \n",
      " 13  transmission           12303 non-null  object \n",
      " 14  engine displacement    12303 non-null  object \n",
      " 15  body type              12303 non-null  object \n",
      " 16  dealer                 10683 non-null  object \n",
      " 17  seller                 12303 non-null  object \n",
      " 18  pages                  9912 non-null   float64\n",
      " 19  pages-href             9912 non-null   object \n",
      " 20  age                    12303 non-null  int64  \n",
      "dtypes: float64(1), int32(1), int64(3), object(16)\n",
      "memory usage: 2.0+ MB\n"
     ]
    }
   ],
   "source": [
    "df.info()"
   ]
  },
  {
   "cell_type": "code",
   "execution_count": 49,
   "metadata": {},
   "outputs": [
    {
     "data": {
      "text/plain": [
       "array(['2000', '2400', '3500', '1600', '4800', '1800', '1500', '1300',\n",
       "       '3000', '2200', '2500', '3800', '2700', '1000', '6300', '1700',\n",
       "       '1400', '4100', '4600', '3900', '1200', '4500', '4000', '2300',\n",
       "       '4700', '3700', '3200', '4400', '3600', '2800', '5500', '5000',\n",
       "       '5900', '3400', '2100', '850', '4200', '6500', '5200', '1900',\n",
       "       '4300', '2600', '1100', '-', '2900', '6800', '800', '5700', '5400',\n",
       "       '660', '6000', '8000', '300', '6600', '700', '6200', '6400',\n",
       "       '7000', '3300', '10000', '750', '3100', '400'], dtype=object)"
      ]
     },
     "execution_count": 49,
     "metadata": {},
     "output_type": "execute_result"
    }
   ],
   "source": [
    "df['engine displacement']=df['engine displacement'].str.replace('cc', '')\n",
    "df['engine displacement'].unique()"
   ]
  },
  {
   "cell_type": "code",
   "execution_count": 55,
   "metadata": {},
   "outputs": [],
   "source": [
    "df.drop(df[df['engine displacement']=='-'].index, inplace = True)"
   ]
  },
  {
   "cell_type": "code",
   "execution_count": 56,
   "metadata": {},
   "outputs": [
    {
     "data": {
      "text/plain": [
       "array(['2000', '2400', '3500', '1600', '4800', '1800', '1500', '1300',\n",
       "       '3000', '2200', '2500', '3800', '2700', '1000', '6300', '1700',\n",
       "       '1400', '4100', '4600', '3900', '1200', '4500', '4000', '2300',\n",
       "       '4700', '3700', '3200', '4400', '3600', '2800', '5500', '5000',\n",
       "       '5900', '3400', '2100', '850', '4200', '6500', '5200', '1900',\n",
       "       '4300', '2600', '1100', '2900', '6800', '800', '5700', '5400',\n",
       "       '660', '6000', '8000', '300', '6600', '700', '6200', '6400',\n",
       "       '7000', '3300', '10000', '750', '3100', '400'], dtype=object)"
      ]
     },
     "execution_count": 56,
     "metadata": {},
     "output_type": "execute_result"
    }
   ],
   "source": [
    "df['engine displacement'].unique()"
   ]
  },
  {
   "cell_type": "code",
   "execution_count": 58,
   "metadata": {},
   "outputs": [],
   "source": [
    "df['engine displacement'] = df['engine displacement'].astype(int)"
   ]
  },
  {
   "cell_type": "code",
   "execution_count": 59,
   "metadata": {},
   "outputs": [
    {
     "name": "stdout",
     "output_type": "stream",
     "text": [
      "<class 'pandas.core.frame.DataFrame'>\n",
      "Int64Index: 12203 entries, 0 to 12571\n",
      "Data columns (total 21 columns):\n",
      " #   Column                 Non-Null Count  Dtype  \n",
      "---  ------                 --------------  -----  \n",
      " 0   web-scraper-order      12203 non-null  object \n",
      " 1   web-scraper-start-url  12203 non-null  object \n",
      " 2   usedcar                12203 non-null  object \n",
      " 3   usedcar-href           12203 non-null  object \n",
      " 4   items                  12203 non-null  object \n",
      " 5   price                  12203 non-null  int32  \n",
      " 6   year                   12203 non-null  int64  \n",
      " 7   location               12203 non-null  object \n",
      " 8   make                   12202 non-null  object \n",
      " 9   model                  12198 non-null  object \n",
      " 10  variant                12117 non-null  object \n",
      " 11  mileage                12203 non-null  int64  \n",
      " 12  color                  12203 non-null  object \n",
      " 13  transmission           12203 non-null  object \n",
      " 14  engine displacement    12203 non-null  int32  \n",
      " 15  body type              12203 non-null  object \n",
      " 16  dealer                 10600 non-null  object \n",
      " 17  seller                 12203 non-null  object \n",
      " 18  pages                  9828 non-null   float64\n",
      " 19  pages-href             9828 non-null   object \n",
      " 20  age                    12203 non-null  int64  \n",
      "dtypes: float64(1), int32(2), int64(3), object(15)\n",
      "memory usage: 2.0+ MB\n"
     ]
    }
   ],
   "source": [
    "df.info()"
   ]
  },
  {
   "cell_type": "code",
   "execution_count": 60,
   "metadata": {},
   "outputs": [],
   "source": [
    "#df.to_csv('motortraders_final.csv')"
   ]
  },
  {
   "cell_type": "code",
   "execution_count": null,
   "metadata": {},
   "outputs": [],
   "source": []
  }
 ],
 "metadata": {
  "kernelspec": {
   "display_name": "Python 3",
   "language": "python",
   "name": "python3"
  },
  "language_info": {
   "codemirror_mode": {
    "name": "ipython",
    "version": 3
   },
   "file_extension": ".py",
   "mimetype": "text/x-python",
   "name": "python",
   "nbconvert_exporter": "python",
   "pygments_lexer": "ipython3",
   "version": "3.7.6"
  }
 },
 "nbformat": 4,
 "nbformat_minor": 4
}
